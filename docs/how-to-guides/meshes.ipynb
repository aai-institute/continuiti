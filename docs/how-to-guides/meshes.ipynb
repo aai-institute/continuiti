{
 "cells": [
  {
   "cell_type": "markdown",
   "metadata": {},
   "source": [
    "# Meshes\n",
    "\n",
    "This guide demonstrates the use of meshes in **continuiti**.\n",
    "\n",
    "In this example, we will load a `Gmsh` file and train a physics-informed neural\n",
    "operator."
   ]
  },
  {
   "cell_type": "code",
   "execution_count": 1,
   "metadata": {
    "tags": [
     "hide"
    ]
   },
   "outputs": [],
   "source": [
    "%reload_ext autoreload\n",
    "%autoreload 2"
   ]
  },
  {
   "cell_type": "code",
   "execution_count": 2,
   "metadata": {},
   "outputs": [],
   "source": [
    "import torch\n",
    "import pathlib\n",
    "import matplotlib.pyplot as plt\n",
    "from matplotlib.tri import Triangulation\n",
    "from continuiti.data import OperatorDataset\n",
    "from continuiti.data.mesh import Gmsh\n",
    "from continuiti.operators import DeepONet\n",
    "from continuiti.trainer import Trainer\n",
    "from continuiti.pde import div, grad, PhysicsInformedLoss"
   ]
  },
  {
   "cell_type": "code",
   "execution_count": 3,
   "metadata": {
    "tags": [
     "hide"
    ]
   },
   "outputs": [],
   "source": [
    "torch.manual_seed(0)\n",
    "plt.rcParams[\"axes.facecolor\"] = (1, 1, 1, 0)\n",
    "plt.rcParams[\"figure.facecolor\"] = (1, 1, 1, 0)\n",
    "plt.rcParams[\"legend.framealpha\"] = 0.0"
   ]
  },
  {
   "cell_type": "code",
   "execution_count": 4,
   "metadata": {
    "tags": [
     "hide",
     "skip-execution"
    ]
   },
   "outputs": [
    {
     "name": "stdout",
     "output_type": "stream",
     "text": [
      "Info    : Running '/Users/samuelburbulla/code/continuiti/venv/bin/gmsh -2 /Users/samuelburbulla/code/continuiti/examples/../data/meshes/mediterranean.geo' [Gmsh 4.12.2, 1 node, max. 1 thread]\n",
      "Info    : Started on Mon Aug 19 12:07:12 2024\n",
      "Info    : Reading '/Users/samuelburbulla/code/continuiti/examples/../data/meshes/mediterranean.geo'...\n",
      "Info    : Done reading '/Users/samuelburbulla/code/continuiti/examples/../data/meshes/mediterranean.geo'\n",
      "Info    : Meshing 1D...\n",
      "Info    : [  0%] Meshing curve 2 (Nurb)\n"
     ]
    },
    {
     "name": "stderr",
     "output_type": "stream",
     "text": [
      "Warning : Unknown curve 1\n",
      "Warning : Unknown curve 5\n",
      "Warning : Unknown curve 6\n",
      "Warning : Unknown curve 7\n",
      "Warning : Unknown curve 22\n",
      "Warning : Unknown curve 158\n",
      "Warning : Unknown curve 180\n",
      "Warning : Unknown curve 191\n",
      "Warning : Unknown curve 235\n",
      "Warning : Unknown curve 241\n",
      "Warning : Unknown curve 486\n"
     ]
    },
    {
     "name": "stdout",
     "output_type": "stream",
     "text": [
      "Info    : [ 10%] Meshing curve 3 (Nurb)\n",
      "Info    : [ 10%] Meshing curve 4 (Nurb)\n",
      "Info    : [ 10%] Meshing curve 8 (Nurb)\n",
      "Info    : [ 10%] Meshing curve 9 (Nurb)\n",
      "Info    : [ 10%] Meshing curve 10 (Nurb)\n",
      "Info    : [ 10%] Meshing curve 11 (Nurb)\n",
      "Info    : [ 10%] Meshing curve 12 (Nurb)\n",
      "Info    : [ 10%] Meshing curve 13 (Nurb)\n",
      "Info    : [ 10%] Meshing curve 14 (Nurb)\n",
      "Info    : [ 10%] Meshing curve 15 (Nurb)\n",
      "Info    : [ 10%] Meshing curve 16 (Nurb)\n",
      "Info    : [ 10%] Meshing curve 17 (Nurb)\n",
      "Info    : [ 10%] Meshing curve 18 (Nurb)\n",
      "Info    : [ 10%] Meshing curve 19 (Nurb)\n",
      "Info    : [ 10%] Meshing curve 20 (Nurb)\n",
      "Info    : [ 10%] Meshing curve 21 (Nurb)\n",
      "Info    : [ 10%] Meshing curve 23 (Nurb)\n",
      "Info    : [ 10%] Meshing curve 24 (Nurb)\n",
      "Info    : [ 10%] Meshing curve 25 (Nurb)\n",
      "Info    : [ 10%] Meshing curve 26 (Nurb)\n",
      "Info    : [ 10%] Meshing curve 27 (Nurb)\n",
      "Info    : [ 10%] Meshing curve 28 (Nurb)\n",
      "Info    : [ 10%] Meshing curve 29 (Nurb)\n",
      "Info    : [ 10%] Meshing curve 30 (Nurb)\n",
      "Info    : [ 10%] Meshing curve 31 (Nurb)\n",
      "Info    : [ 10%] Meshing curve 32 (Nurb)\n",
      "Info    : [ 10%] Meshing curve 33 (Nurb)\n",
      "Info    : [ 10%] Meshing curve 34 (Nurb)\n",
      "Info    : [ 10%] Meshing curve 35 (Nurb)\n",
      "Info    : [ 10%] Meshing curve 36 (Nurb)\n",
      "Info    : [ 10%] Meshing curve 37 (Nurb)\n",
      "Info    : [ 10%] Meshing curve 38 (Nurb)\n",
      "Info    : [ 10%] Meshing curve 39 (Nurb)\n",
      "Info    : [ 10%] Meshing curve 40 (Nurb)\n",
      "Info    : [ 10%] Meshing curve 41 (Nurb)\n",
      "Info    : [ 10%] Meshing curve 42 (Nurb)\n",
      "Info    : [ 10%] Meshing curve 43 (Nurb)\n",
      "Info    : [ 20%] Meshing curve 44 (Nurb)\n",
      "Info    : [ 20%] Meshing curve 45 (Nurb)\n",
      "Info    : [ 20%] Meshing curve 46 (Nurb)\n",
      "Info    : [ 20%] Meshing curve 47 (Nurb)\n",
      "Info    : [ 20%] Meshing curve 48 (Nurb)\n",
      "Info    : [ 20%] Meshing curve 49 (Nurb)\n",
      "Info    : [ 20%] Meshing curve 50 (Nurb)\n",
      "Info    : [ 20%] Meshing curve 51 (Nurb)\n",
      "Info    : [ 20%] Meshing curve 52 (Nurb)\n"
     ]
    },
    {
     "name": "stderr",
     "output_type": "stream",
     "text": [
      "Warning : Could not converge parametrisation of (4.58018e+06,2.23382e+06,3.82384e+06) on curve 51, taking parameter with lowest error\n"
     ]
    },
    {
     "name": "stdout",
     "output_type": "stream",
     "text": [
      "Info    : [ 20%] Meshing curve 53 (Nurb)\n",
      "Info    : [ 20%] Meshing curve 54 (Nurb)\n",
      "Info    : [ 20%] Meshing curve 55 (Nurb)\n",
      "Info    : [ 20%] Meshing curve 56 (Nurb)\n",
      "Info    : [ 20%] Meshing curve 57 (Nurb)\n",
      "Info    : [ 20%] Meshing curve 58 (Nurb)\n",
      "Info    : [ 20%] Meshing curve 59 (Nurb)\n",
      "Info    : [ 20%] Meshing curve 60 (Nurb)\n",
      "Info    : [ 20%] Meshing curve 61 (Nurb)\n",
      "Info    : [ 20%] Meshing curve 62 (Nurb)\n",
      "Info    : [ 20%] Meshing curve 63 (Nurb)\n",
      "Info    : [ 20%] Meshing curve 64 (Nurb)\n",
      "Info    : [ 20%] Meshing curve 65 (Nurb)\n",
      "Info    : [ 20%] Meshing curve 66 (Nurb)\n",
      "Info    : [ 20%] Meshing curve 67 (Nurb)\n",
      "Info    : [ 20%] Meshing curve 68 (Nurb)\n",
      "Info    : [ 20%] Meshing curve 69 (Nurb)\n",
      "Info    : [ 20%] Meshing curve 70 (Nurb)\n",
      "Info    : [ 20%] Meshing curve 71 (Nurb)\n",
      "Info    : [ 20%] Meshing curve 72 (Nurb)\n",
      "Info    : [ 20%] Meshing curve 73 (Nurb)\n",
      "Info    : [ 20%] Meshing curve 74 (Nurb)\n",
      "Info    : [ 20%] Meshing curve 75 (Nurb)\n",
      "Info    : [ 20%] Meshing curve 76 (Nurb)\n",
      "Info    : [ 20%] Meshing curve 77 (Nurb)\n",
      "Info    : [ 20%] Meshing curve 78 (Nurb)\n",
      "Info    : [ 20%] Meshing curve 79 (Nurb)\n",
      "Info    : [ 20%] Meshing curve 80 (Nurb)\n",
      "Info    : [ 20%] Meshing curve 81 (Nurb)\n",
      "Info    : [ 30%] Meshing curve 82 (Nurb)\n",
      "Info    : [ 30%] Meshing curve 83 (Nurb)\n",
      "Info    : [ 30%] Meshing curve 84 (Nurb)\n",
      "Info    : [ 30%] Meshing curve 85 (Nurb)\n",
      "Info    : [ 30%] Meshing curve 86 (Nurb)\n",
      "Info    : [ 30%] Meshing curve 87 (Nurb)\n",
      "Info    : [ 30%] Meshing curve 88 (Nurb)\n",
      "Info    : [ 30%] Meshing curve 89 (Nurb)\n",
      "Info    : [ 30%] Meshing curve 90 (Nurb)\n",
      "Info    : [ 30%] Meshing curve 91 (Nurb)\n",
      "Info    : [ 30%] Meshing curve 92 (Nurb)\n",
      "Info    : [ 30%] Meshing curve 93 (Nurb)\n",
      "Info    : [ 30%] Meshing curve 94 (Nurb)\n",
      "Info    : [ 30%] Meshing curve 95 (Nurb)\n",
      "Info    : [ 30%] Meshing curve 96 (Nurb)\n",
      "Info    : [ 30%] Meshing curve 97 (Nurb)\n",
      "Info    : [ 30%] Meshing curve 98 (Nurb)\n",
      "Info    : [ 30%] Meshing curve 99 (Nurb)\n",
      "Info    : [ 30%] Meshing curve 100 (Nurb)\n",
      "Info    : [ 30%] Meshing curve 101 (Nurb)\n",
      "Info    : [ 30%] Meshing curve 102 (Nurb)\n",
      "Info    : [ 30%] Meshing curve 103 (Nurb)\n",
      "Info    : [ 30%] Meshing curve 105 (Nurb)\n",
      "Info    : [ 30%] Meshing curve 106 (Nurb)\n",
      "Info    : [ 30%] Meshing curve 107 (Nurb)\n",
      "Info    : [ 30%] Meshing curve 108 (Nurb)\n",
      "Info    : [ 30%] Meshing curve 109 (Nurb)\n",
      "Info    : [ 30%] Meshing curve 110 (Nurb)\n",
      "Info    : [ 30%] Meshing curve 111 (Nurb)\n",
      "Info    : [ 30%] Meshing curve 112 (Nurb)\n",
      "Info    : [ 30%] Meshing curve 113 (Nurb)\n",
      "Info    : [ 30%] Meshing curve 115 (Nurb)\n",
      "Info    : [ 30%] Meshing curve 117 (Nurb)\n",
      "Info    : [ 30%] Meshing curve 118 (Nurb)\n",
      "Info    : [ 30%] Meshing curve 119 (Nurb)\n",
      "Info    : [ 30%] Meshing curve 120 (Nurb)\n",
      "Info    : [ 30%] Meshing curve 121 (Nurb)\n",
      "Info    : [ 40%] Meshing curve 122 (Nurb)\n",
      "Info    : [ 40%] Meshing curve 123 (Nurb)\n",
      "Info    : [ 40%] Meshing curve 124 (Nurb)\n",
      "Info    : [ 40%] Meshing curve 125 (Nurb)\n",
      "Info    : [ 40%] Meshing curve 126 (Nurb)\n",
      "Info    : [ 40%] Meshing curve 127 (Nurb)\n",
      "Info    : [ 40%] Meshing curve 128 (Nurb)\n",
      "Info    : [ 40%] Meshing curve 129 (Nurb)\n",
      "Info    : [ 40%] Meshing curve 130 (Nurb)\n",
      "Info    : [ 40%] Meshing curve 131 (Nurb)\n",
      "Info    : [ 40%] Meshing curve 133 (Nurb)\n",
      "Info    : [ 40%] Meshing curve 134 (Nurb)\n",
      "Info    : [ 40%] Meshing curve 135 (Nurb)\n",
      "Info    : [ 40%] Meshing curve 136 (Nurb)\n",
      "Info    : [ 40%] Meshing curve 137 (Nurb)\n",
      "Info    : [ 40%] Meshing curve 138 (Nurb)\n",
      "Info    : [ 40%] Meshing curve 139 (Nurb)\n",
      "Info    : [ 40%] Meshing curve 140 (Nurb)\n",
      "Info    : [ 40%] Meshing curve 141 (Nurb)\n",
      "Info    : [ 40%] Meshing curve 142 (Nurb)\n",
      "Info    : [ 40%] Meshing curve 143 (Nurb)\n",
      "Info    : [ 40%] Meshing curve 144 (Nurb)\n",
      "Info    : [ 40%] Meshing curve 145 (Nurb)\n",
      "Info    : [ 40%] Meshing curve 146 (Nurb)\n",
      "Info    : [ 40%] Meshing curve 147 (Nurb)\n",
      "Info    : [ 40%] Meshing curve 148 (Nurb)\n",
      "Info    : [ 40%] Meshing curve 149 (Nurb)\n",
      "Info    : [ 40%] Meshing curve 151 (Nurb)\n",
      "Info    : [ 40%] Meshing curve 152 (Nurb)\n",
      "Info    : [ 40%] Meshing curve 153 (Nurb)\n",
      "Info    : [ 40%] Meshing curve 154 (Nurb)\n",
      "Info    : [ 40%] Meshing curve 155 (Nurb)\n",
      "Info    : [ 40%] Meshing curve 156 (Nurb)\n",
      "Info    : [ 40%] Meshing curve 157 (Nurb)\n",
      "Info    : [ 40%] Meshing curve 159 (Nurb)\n",
      "Info    : [ 40%] Meshing curve 160 (Nurb)\n",
      "Info    : [ 40%] Meshing curve 161 (Nurb)\n",
      "Info    : [ 40%] Meshing curve 162 (Nurb)\n",
      "Info    : [ 50%] Meshing curve 163 (Nurb)\n",
      "Info    : [ 50%] Meshing curve 164 (Nurb)\n",
      "Info    : [ 50%] Meshing curve 165 (Nurb)\n",
      "Info    : [ 50%] Meshing curve 166 (Nurb)\n",
      "Info    : [ 50%] Meshing curve 167 (Nurb)\n",
      "Info    : [ 50%] Meshing curve 168 (Nurb)\n",
      "Info    : [ 50%] Meshing curve 169 (Nurb)\n",
      "Info    : [ 50%] Meshing curve 170 (Nurb)\n",
      "Info    : [ 50%] Meshing curve 171 (Nurb)\n",
      "Info    : [ 50%] Meshing curve 172 (Nurb)\n",
      "Info    : [ 50%] Meshing curve 173 (Nurb)\n",
      "Info    : [ 50%] Meshing curve 174 (Nurb)\n",
      "Info    : [ 50%] Meshing curve 175 (Nurb)\n",
      "Info    : [ 50%] Meshing curve 176 (Nurb)\n",
      "Info    : [ 50%] Meshing curve 177 (Nurb)\n",
      "Info    : [ 50%] Meshing curve 178 (Nurb)\n",
      "Info    : [ 50%] Meshing curve 179 (Nurb)\n",
      "Info    : [ 50%] Meshing curve 181 (Nurb)\n",
      "Info    : [ 50%] Meshing curve 182 (Nurb)\n",
      "Info    : [ 50%] Meshing curve 183 (Nurb)\n",
      "Info    : [ 50%] Meshing curve 184 (Nurb)\n",
      "Info    : [ 50%] Meshing curve 185 (Nurb)\n",
      "Info    : [ 50%] Meshing curve 186 (Nurb)\n",
      "Info    : [ 50%] Meshing curve 187 (Nurb)\n",
      "Info    : [ 50%] Meshing curve 188 (Nurb)\n",
      "Info    : [ 50%] Meshing curve 189 (Nurb)\n",
      "Info    : [ 50%] Meshing curve 190 (Nurb)\n",
      "Info    : [ 50%] Meshing curve 192 (Nurb)\n",
      "Info    : [ 50%] Meshing curve 193 (Nurb)\n",
      "Info    : [ 50%] Meshing curve 194 (Nurb)\n",
      "Info    : [ 50%] Meshing curve 195 (Nurb)\n",
      "Info    : [ 50%] Meshing curve 196 (Nurb)\n",
      "Info    : [ 50%] Meshing curve 197 (Nurb)\n",
      "Info    : [ 50%] Meshing curve 198 (Nurb)\n",
      "Info    : [ 50%] Meshing curve 199 (Nurb)\n",
      "Info    : [ 50%] Meshing curve 200 (Nurb)\n",
      "Info    : [ 50%] Meshing curve 202 (Nurb)\n",
      "Info    : [ 60%] Meshing curve 204 (Nurb)\n",
      "Info    : [ 60%] Meshing curve 205 (Nurb)\n",
      "Info    : [ 60%] Meshing curve 206 (Nurb)\n",
      "Info    : [ 60%] Meshing curve 207 (Nurb)\n",
      "Info    : [ 60%] Meshing curve 208 (Nurb)\n",
      "Info    : [ 60%] Meshing curve 209 (Nurb)\n",
      "Info    : [ 60%] Meshing curve 211 (Nurb)\n",
      "Info    : [ 60%] Meshing curve 212 (Nurb)\n",
      "Info    : [ 60%] Meshing curve 213 (Nurb)\n",
      "Info    : [ 60%] Meshing curve 214 (Nurb)\n",
      "Info    : [ 60%] Meshing curve 215 (Nurb)\n",
      "Info    : [ 60%] Meshing curve 216 (Nurb)\n",
      "Info    : [ 60%] Meshing curve 217 (Nurb)\n",
      "Info    : [ 60%] Meshing curve 219 (Nurb)\n",
      "Info    : [ 60%] Meshing curve 220 (Nurb)\n",
      "Info    : [ 60%] Meshing curve 222 (Nurb)\n",
      "Info    : [ 60%] Meshing curve 223 (Nurb)\n",
      "Info    : [ 60%] Meshing curve 224 (Nurb)\n",
      "Info    : [ 60%] Meshing curve 225 (Nurb)\n",
      "Info    : [ 60%] Meshing curve 226 (Nurb)\n",
      "Info    : [ 60%] Meshing curve 227 (Nurb)\n",
      "Info    : [ 60%] Meshing curve 228 (Nurb)\n",
      "Info    : [ 60%] Meshing curve 229 (Nurb)\n",
      "Info    : [ 60%] Meshing curve 230 (Nurb)\n",
      "Info    : [ 60%] Meshing curve 231 (Nurb)\n",
      "Info    : [ 60%] Meshing curve 232 (Nurb)\n",
      "Info    : [ 60%] Meshing curve 233 (Nurb)\n",
      "Info    : [ 60%] Meshing curve 236 (Nurb)\n",
      "Info    : [ 60%] Meshing curve 237 (Nurb)\n",
      "Info    : [ 60%] Meshing curve 238 (Nurb)\n",
      "Info    : [ 60%] Meshing curve 239 (Nurb)\n",
      "Info    : [ 60%] Meshing curve 240 (Nurb)\n",
      "Info    : [ 60%] Meshing curve 242 (Nurb)\n",
      "Info    : [ 60%] Meshing curve 243 (Nurb)\n",
      "Info    : [ 60%] Meshing curve 244 (Nurb)\n",
      "Info    : [ 60%] Meshing curve 245 (Nurb)\n",
      "Info    : [ 60%] Meshing curve 246 (Nurb)\n",
      "Info    : [ 60%] Meshing curve 247 (Nurb)\n",
      "Info    : [ 70%] Meshing curve 248 (Nurb)\n",
      "Info    : [ 70%] Meshing curve 249 (Nurb)\n",
      "Info    : [ 70%] Meshing curve 250 (Nurb)\n",
      "Info    : [ 70%] Meshing curve 251 (Nurb)\n",
      "Info    : [ 70%] Meshing curve 252 (Nurb)\n",
      "Info    : [ 70%] Meshing curve 253 (Nurb)\n",
      "Info    : [ 70%] Meshing curve 254 (Nurb)\n",
      "Info    : [ 70%] Meshing curve 255 (Nurb)\n",
      "Info    : [ 70%] Meshing curve 256 (Nurb)\n",
      "Info    : [ 70%] Meshing curve 257 (Nurb)\n",
      "Info    : [ 70%] Meshing curve 258 (Nurb)\n",
      "Info    : [ 70%] Meshing curve 259 (Nurb)\n",
      "Info    : [ 70%] Meshing curve 260 (Nurb)\n",
      "Info    : [ 70%] Meshing curve 261 (Nurb)\n",
      "Info    : [ 70%] Meshing curve 262 (Nurb)\n",
      "Info    : [ 70%] Meshing curve 263 (Nurb)\n",
      "Info    : [ 70%] Meshing curve 264 (Nurb)\n",
      "Info    : [ 70%] Meshing curve 265 (Nurb)\n",
      "Info    : [ 70%] Meshing curve 266 (Nurb)\n",
      "Info    : [ 70%] Meshing curve 269 (Nurb)\n",
      "Info    : [ 70%] Meshing curve 270 (Nurb)\n",
      "Info    : [ 70%] Meshing curve 271 (Nurb)\n",
      "Info    : [ 70%] Meshing curve 272 (Nurb)\n",
      "Info    : [ 70%] Meshing curve 273 (Nurb)\n",
      "Info    : [ 70%] Meshing curve 274 (Nurb)\n",
      "Info    : [ 70%] Meshing curve 275 (Nurb)\n",
      "Info    : [ 70%] Meshing curve 277 (Nurb)\n",
      "Info    : [ 70%] Meshing curve 278 (Nurb)\n",
      "Info    : [ 70%] Meshing curve 280 (Nurb)\n",
      "Info    : [ 70%] Meshing curve 281 (Nurb)\n",
      "Info    : [ 70%] Meshing curve 282 (Nurb)\n",
      "Info    : [ 70%] Meshing curve 283 (Nurb)\n",
      "Info    : [ 70%] Meshing curve 284 (Nurb)\n",
      "Info    : [ 70%] Meshing curve 285 (Nurb)\n",
      "Info    : [ 70%] Meshing curve 286 (Nurb)\n",
      "Info    : [ 70%] Meshing curve 287 (Nurb)\n",
      "Info    : [ 70%] Meshing curve 288 (Nurb)\n",
      "Info    : [ 80%] Meshing curve 289 (Nurb)\n",
      "Info    : [ 80%] Meshing curve 290 (Nurb)\n",
      "Info    : [ 80%] Meshing curve 291 (Nurb)\n",
      "Info    : [ 80%] Meshing curve 292 (Nurb)\n",
      "Info    : [ 80%] Meshing curve 293 (Nurb)\n",
      "Info    : [ 80%] Meshing curve 294 (Nurb)\n",
      "Info    : [ 80%] Meshing curve 295 (Nurb)\n",
      "Info    : [ 80%] Meshing curve 296 (Nurb)\n",
      "Info    : [ 80%] Meshing curve 297 (Nurb)\n",
      "Info    : [ 80%] Meshing curve 298 (Nurb)\n",
      "Info    : [ 80%] Meshing curve 299 (Nurb)\n",
      "Info    : [ 80%] Meshing curve 300 (Nurb)\n",
      "Info    : [ 80%] Meshing curve 301 (Nurb)\n",
      "Info    : [ 80%] Meshing curve 302 (Nurb)\n",
      "Info    : [ 80%] Meshing curve 303 (Nurb)\n",
      "Info    : [ 80%] Meshing curve 304 (Nurb)\n",
      "Info    : [ 80%] Meshing curve 306 (Nurb)\n",
      "Info    : [ 80%] Meshing curve 307 (Nurb)\n",
      "Info    : [ 80%] Meshing curve 308 (Nurb)\n",
      "Info    : [ 80%] Meshing curve 309 (Nurb)\n",
      "Info    : [ 80%] Meshing curve 310 (Nurb)\n",
      "Info    : [ 80%] Meshing curve 311 (Nurb)\n",
      "Info    : [ 80%] Meshing curve 312 (Nurb)\n",
      "Info    : [ 80%] Meshing curve 313 (Nurb)\n",
      "Info    : [ 80%] Meshing curve 314 (Nurb)\n",
      "Info    : [ 80%] Meshing curve 315 (Nurb)\n",
      "Info    : [ 80%] Meshing curve 316 (Nurb)\n",
      "Info    : [ 80%] Meshing curve 317 (Nurb)\n",
      "Info    : [ 80%] Meshing curve 318 (Nurb)\n",
      "Info    : [ 80%] Meshing curve 319 (Nurb)\n",
      "Info    : [ 80%] Meshing curve 320 (Nurb)\n",
      "Info    : [ 80%] Meshing curve 321 (Nurb)\n",
      "Info    : [ 80%] Meshing curve 322 (Nurb)\n",
      "Info    : [ 80%] Meshing curve 323 (Nurb)\n",
      "Info    : [ 80%] Meshing curve 324 (Nurb)\n",
      "Info    : [ 80%] Meshing curve 325 (Nurb)\n",
      "Info    : [ 80%] Meshing curve 326 (Nurb)\n",
      "Info    : [ 80%] Meshing curve 327 (Nurb)\n",
      "Info    : [ 90%] Meshing curve 329 (Nurb)\n",
      "Info    : [ 90%] Meshing curve 330 (Nurb)\n",
      "Info    : [ 90%] Meshing curve 331 (Nurb)\n",
      "Info    : [ 90%] Meshing curve 332 (Nurb)\n",
      "Info    : [ 90%] Meshing curve 334 (Nurb)\n",
      "Info    : [ 90%] Meshing curve 335 (Nurb)\n",
      "Info    : [ 90%] Meshing curve 339 (Nurb)\n",
      "Info    : [ 90%] Meshing curve 341 (Nurb)\n",
      "Info    : [ 90%] Meshing curve 342 (Nurb)\n",
      "Info    : [ 90%] Meshing curve 343 (Nurb)\n",
      "Info    : [ 90%] Meshing curve 347 (Nurb)\n",
      "Info    : [ 90%] Meshing curve 348 (Nurb)\n",
      "Info    : [ 90%] Meshing curve 352 (Nurb)\n",
      "Info    : [ 90%] Meshing curve 353 (Nurb)\n",
      "Info    : [ 90%] Meshing curve 355 (Nurb)\n",
      "Info    : [ 90%] Meshing curve 356 (Nurb)\n",
      "Info    : [ 90%] Meshing curve 357 (Nurb)\n",
      "Info    : [ 90%] Meshing curve 359 (Nurb)\n",
      "Info    : [ 90%] Meshing curve 365 (Nurb)\n",
      "Info    : [ 90%] Meshing curve 366 (Nurb)\n",
      "Info    : [ 90%] Meshing curve 372 (Nurb)\n",
      "Info    : [ 90%] Meshing curve 373 (Nurb)\n",
      "Info    : [ 90%] Meshing curve 374 (Nurb)\n",
      "Info    : [ 90%] Meshing curve 377 (Nurb)\n",
      "Info    : [ 90%] Meshing curve 378 (Nurb)\n",
      "Info    : [ 90%] Meshing curve 383 (Nurb)\n",
      "Info    : [ 90%] Meshing curve 385 (Nurb)\n",
      "Info    : [ 90%] Meshing curve 389 (Nurb)\n",
      "Info    : [ 90%] Meshing curve 390 (Nurb)\n",
      "Info    : [ 90%] Meshing curve 391 (Nurb)\n",
      "Info    : [ 90%] Meshing curve 392 (Nurb)\n",
      "Info    : [ 90%] Meshing curve 396 (Nurb)\n",
      "Info    : [ 90%] Meshing curve 397 (Nurb)\n",
      "Info    : [ 90%] Meshing curve 400 (Nurb)\n",
      "Info    : [ 90%] Meshing curve 401 (Nurb)\n",
      "Info    : [ 90%] Meshing curve 405 (Nurb)\n",
      "Info    : [ 90%] Meshing curve 406 (Nurb)\n",
      "Info    : [100%] Meshing curve 410 (Nurb)\n",
      "Info    : [100%] Meshing curve 411 (Nurb)\n",
      "Info    : [100%] Meshing curve 412 (Nurb)\n",
      "Info    : [100%] Meshing curve 415 (Nurb)\n",
      "Info    : [100%] Meshing curve 418 (Nurb)\n",
      "Info    : [100%] Meshing curve 419 (Nurb)\n",
      "Info    : [100%] Meshing curve 422 (Nurb)\n",
      "Info    : [100%] Meshing curve 426 (Nurb)\n",
      "Info    : [100%] Meshing curve 427 (Nurb)\n",
      "Info    : [100%] Meshing curve 430 (Nurb)\n",
      "Info    : [100%] Meshing curve 433 (Nurb)\n",
      "Info    : [100%] Meshing curve 436 (Nurb)\n",
      "Info    : [100%] Meshing curve 437 (Nurb)\n",
      "Info    : [100%] Meshing curve 440 (Nurb)\n",
      "Info    : [100%] Meshing curve 441 (Nurb)\n",
      "Info    : [100%] Meshing curve 445 (Nurb)\n",
      "Info    : [100%] Meshing curve 451 (Nurb)\n",
      "Info    : [100%] Meshing curve 457 (Nurb)\n",
      "Info    : [100%] Meshing curve 458 (Nurb)\n",
      "Info    : [100%] Meshing curve 459 (Line)\n",
      "Info    : [100%] Meshing curve 463 (Nurb)\n",
      "Info    : [100%] Meshing curve 464 (Nurb)\n",
      "Info    : [100%] Meshing curve 466 (Nurb)\n",
      "Info    : [100%] Meshing curve 467 (Nurb)\n",
      "Info    : [100%] Meshing curve 469 (Nurb)\n",
      "Info    : [100%] Meshing curve 470 (Nurb)\n",
      "Info    : [100%] Meshing curve 471 (Nurb)\n",
      "Info    : [100%] Meshing curve 473 (Nurb)\n",
      "Info    : [100%] Meshing curve 474 (Line)\n",
      "Info    : [100%] Meshing curve 475 (Nurb)\n",
      "Info    : [100%] Meshing curve 477 (Nurb)\n",
      "Info    : [100%] Meshing curve 478 (Nurb)\n",
      "Info    : [100%] Meshing curve 480 (Nurb)\n",
      "Info    : [100%] Meshing curve 482 (Nurb)\n",
      "Info    : [100%] Meshing curve 483 (Nurb)\n",
      "Info    : [100%] Meshing curve 484 (Nurb)\n",
      "Info    : [100%] Meshing curve 485 (Nurb)\n",
      "Info    : Done meshing 1D (Wall 20.3164s, CPU 19.753s)\n",
      "Info    : Meshing 2D...\n",
      "Info    : Meshing surface 487 (Parametric surface, Frontal-Delaunay)\n",
      "Info    : :-( There are 2 intersections in the 1D mesh (curves 225 457)\n",
      "Info    : 8-| Splitting those edges and trying again\n",
      "Info    : :-) All edges recovered after 1 iteration\n",
      "Info    : Done meshing 2D (Wall 0.510899s, CPU 0.496827s)\n",
      "Info    : 23486 nodes 38449 elements\n",
      "Info    : Writing '/Users/samuelburbulla/code/continuiti/examples/../data/meshes/mediterranean.msh'...\n",
      "Info    : Done writing '/Users/samuelburbulla/code/continuiti/examples/../data/meshes/mediterranean.msh'\n",
      "Info    : Stopped on Mon Aug 19 12:07:33 2024 (From start: Wall 21.1754s, CPU 21.7172s)\n"
     ]
    },
    {
     "name": "stderr",
     "output_type": "stream",
     "text": [
      "Warning : ------------------------------\n",
      "Warning : Mesh generation error summary\n",
      "Warning :    12 warnings\n",
      "Warning :     0 errors\n",
      "Warning : Check the full log for details\n",
      "Warning : ------------------------------\n"
     ]
    },
    {
     "data": {
      "text/plain": [
       "0"
      ]
     },
     "execution_count": 4,
     "metadata": {},
     "output_type": "execute_result"
    }
   ],
   "source": [
    "# Generate the mesh\n",
    "import os\n",
    "meshes_dir = pathlib.Path.cwd().joinpath(\"..\", \"data\", \"meshes\")\n",
    "geofile = meshes_dir.joinpath(\"mediterranean.geo\").as_posix()\n",
    "os.system(f\"gmsh -2 {geofile}\")"
   ]
  },
  {
   "cell_type": "markdown",
   "metadata": {},
   "source": [
    "We use the `Gmsh` class to read a mesh from a file generated by Gmsh."
   ]
  },
  {
   "cell_type": "code",
   "execution_count": 5,
   "metadata": {
    "tags": [
     "invertible-output",
     "skip-execution"
    ]
   },
   "outputs": [],
   "source": [
    "meshes_dir = pathlib.Path.cwd().joinpath(\"..\", \"data\", \"meshes\")\n",
    "gmsh_file = meshes_dir.joinpath(\"mediterranean.msh\").as_posix()\n",
    "\n",
    "mesh = Gmsh(gmsh_file)\n",
    "vertices = mesh.get_vertices()\n",
    "\n",
    "# We use longitude and latitude only and scale them to be in the range [-1, 1]\n",
    "vertices = vertices[1:, :]\n",
    "vertices -= vertices.mean(dim=1, keepdim=True)\n",
    "vertices /= vertices[0, :].abs().max()"
   ]
  },
  {
   "cell_type": "code",
   "execution_count": 6,
   "metadata": {
    "tags": [
     "hide"
    ]
   },
   "outputs": [],
   "source": [
    "meshes_dir = pathlib.Path.cwd().joinpath(\"..\", \"data\", \"meshes\")\n",
    "gmsh_file = meshes_dir.joinpath(\"mediterranean.msh\")\n",
    "\n",
    "if not gmsh_file.is_file():\n",
    "    vertices = torch.rand(2, 100)"
   ]
  },
  {
   "cell_type": "code",
   "execution_count": 7,
   "metadata": {
    "tags": [
     "invertible-output",
     "hide-input"
    ]
   },
   "outputs": [
    {
     "data": {
      "image/png": "[encoded data removed]",
      "text/plain": [
       "<Figure size 640x480 with 1 Axes>"
      ]
     },
     "metadata": {
      "needs_background": "light"
     },
     "output_type": "display_data"
    }
   ],
   "source": [
    "plt.scatter(vertices[0], vertices[1], 1, c=\"black\")\n",
    "plt.gca().axis(\"off\")\n",
    "plt.gca().set_aspect(\"equal\")"
   ]
  },
  {
   "cell_type": "markdown",
   "metadata": {},
   "source": [
    "## Problem Statement\n",
    "\n",
    "Let's assume we have a set of temperature measurements and want to \n",
    "reconstruct a physically meaningful temperature distribution in the\n",
    "whole mediterranean sea. We define a data set by generating random sensor\n",
    "inputs and plot the first entry."
   ]
  },
  {
   "cell_type": "code",
   "execution_count": 8,
   "metadata": {},
   "outputs": [],
   "source": [
    "num_observation = 1\n",
    "num_sensors = 5\n",
    "\n",
    "x = torch.zeros(num_observation, 2, num_sensors)\n",
    "u = torch.zeros(num_observation, 1, num_sensors)\n",
    "y = torch.zeros(num_observation, 2, num_sensors)\n",
    "v = torch.zeros(num_observation, 1, num_sensors)\n",
    "\n",
    "for i in range(num_observation):\n",
    "\n",
    "    # Select random sensor positions\n",
    "    idx = torch.randperm(vertices.shape[1])[:num_sensors]\n",
    "    x[i] = vertices[:, idx]\n",
    "\n",
    "    # Generate random sensor measurements\n",
    "    u[i] = torch.rand(1, num_sensors)\n",
    "    \n",
    "    # The mapped function equals u the sensors\n",
    "    # (but we will add a physics-informed loss later w.r.t to all vertices)\n",
    "    y[i] = x[i]\n",
    "    v[i] = u[i]\n",
    "\n",
    "dataset = OperatorDataset(x, u, y, v)"
   ]
  },
  {
   "cell_type": "code",
   "execution_count": 9,
   "metadata": {
    "tags": [
     "invertible-output",
     "hide-input"
    ]
   },
   "outputs": [
    {
     "data": {
      "image/png": "[encoded data removed]",
      "text/plain": [
       "<Figure size 640x480 with 1 Axes>"
      ]
     },
     "metadata": {
      "needs_background": "light"
     },
     "output_type": "display_data"
    }
   ],
   "source": [
    "# Get a first observation from training set\n",
    "u0 = torch.rand(num_sensors, 1)\n",
    "x0, u0, _, _ = dataset[0]\n",
    "\n",
    "# Plot\n",
    "plt.scatter(vertices[0], vertices[1], 1, c=\"black\")\n",
    "plt.scatter(x0[0], x0[1], 10, u0, cmap=\"YlOrRd\", vmin=-1, vmax=1)\n",
    "plt.gca().axis(\"off\")\n",
    "plt.gca().set_aspect(\"equal\")"
   ]
  },
  {
   "cell_type": "markdown",
   "metadata": {},
   "source": [
    "## Neural Operator\n",
    "\n",
    "In this example, we use a DeepONet architecture."
   ]
  },
  {
   "cell_type": "code",
   "execution_count": 10,
   "metadata": {},
   "outputs": [],
   "source": [
    "operator = DeepONet(dataset.shapes)"
   ]
  },
  {
   "cell_type": "markdown",
   "metadata": {},
   "source": [
    "## Physics-informed loss\n",
    "\n",
    "As we want to learn a physically meaningful completion, we define a\n",
    "physics-informed loss function satisfying:\n",
    "\n",
    "$$- \\Delta v = 0$$"
   ]
  },
  {
   "cell_type": "code",
   "execution_count": 11,
   "metadata": {},
   "outputs": [],
   "source": [
    "y_physics = vertices.clone().requires_grad_(True)[:, ::100] # Use a subset of vertices for the physics-informed loss\n",
    "mse = torch.nn.MSELoss()\n",
    "\n",
    "def pde(x, u, y, v):\n",
    "    # Sensor measurements\n",
    "    loss = mse(v, u)\n",
    "\n",
    "    # Physics-informed loss w.r.t. all vertices\n",
    "    w = lambda y: operator(x, u, y)\n",
    "    Delta = div(grad(w))\n",
    "\n",
    "    y_all = y_physics.repeat(u.shape[0], 1, 1).to(y.device)\n",
    "    loss += (Delta(y_all)**2).mean()\n",
    "\n",
    "    return loss\n",
    "\n",
    "loss_fn = PhysicsInformedLoss(pde)"
   ]
  },
  {
   "cell_type": "markdown",
   "metadata": {},
   "source": [
    "## Training\n",
    "\n",
    "We train the neural operator using the physics-informed loss function. "
   ]
  },
  {
   "cell_type": "code",
   "execution_count": 12,
   "metadata": {
    "tags": [
     "hide-output"
    ]
   },
   "outputs": [
    {
     "name": "stdout",
     "output_type": "stream",
     "text": [
      "Parameters: 5296  Device: mps\n",
      "Epoch 3582/10000  Step  1/1  [====================]  39ms/step  [2:17min<4:07min] - loss/train = 9.9979e-03  - stopping criterion met\n",
      "\n"
     ]
    },
    {
     "data": {
      "text/plain": [
       "Logs(epoch=3582, step=1, loss_train=0.009997924789786339, loss_test=None)"
      ]
     },
     "execution_count": 12,
     "metadata": {},
     "output_type": "execute_result"
    }
   ],
   "source": [
    "Trainer(operator, loss_fn=loss_fn).fit(dataset, tol=1e-2, epochs=10000)"
   ]
  },
  {
   "cell_type": "markdown",
   "metadata": {},
   "source": [
    "## Evaluation\n",
    "\n",
    "Let's evaluate the trained operator on our initial sensor measurements\n",
    "and compute a test error."
   ]
  },
  {
   "cell_type": "code",
   "execution_count": 13,
   "metadata": {
    "tags": [
     "invertible-output"
    ]
   },
   "outputs": [
    {
     "name": "stdout",
     "output_type": "stream",
     "text": [
      "loss/test = 8.9705e-03\n"
     ]
    }
   ],
   "source": [
    "x_test = x0.unsqueeze(0)\n",
    "u_test = u0.unsqueeze(0)\n",
    "\n",
    "test_loss = mse(operator(x_test, u_test, x_test), u_test)\n",
    "print(f\"loss/test = {test_loss.item():.4e}\")\n"
   ]
  },
  {
   "cell_type": "markdown",
   "metadata": {},
   "source": [
    "## Plotting\n",
    "We can plot the mapped function on the whole mesh by using the cell \n",
    "information from the mesh file and pass it as `Triangulation` to matplotlib."
   ]
  },
  {
   "cell_type": "code",
   "execution_count": 14,
   "metadata": {
    "tags": [
     "skip-execution"
    ]
   },
   "outputs": [],
   "source": [
    "tri = Triangulation(vertices[0], vertices[1], mesh.get_cells())"
   ]
  },
  {
   "cell_type": "code",
   "execution_count": 15,
   "metadata": {
    "tags": [
     "invertible-output",
     "hide-input",
     "skip-execution"
    ]
   },
   "outputs": [
    {
     "data": {
      "image/png": "[encoded data removed]",
      "text/plain": [
       "<Figure size 640x480 with 1 Axes>"
      ]
     },
     "metadata": {
      "needs_background": "light"
     },
     "output_type": "display_data"
    }
   ],
   "source": [
    "# Plot with contours\n",
    "y_plot = vertices.unsqueeze(0)\n",
    "v_plot = operator(x_test, u_test, y_plot).detach().squeeze()\n",
    "\n",
    "# Triangulation\n",
    "kwargs = {\"vmin\": v_plot.min(), \"vmax\": v_plot.max(), \"cmap\": \"YlOrRd\"}\n",
    "cb = plt.tricontourf(tri, v_plot, levels=100, **kwargs)\n",
    "\n",
    "# Add sensors\n",
    "plt.scatter(x0[0], x0[1], 20, u0, edgecolors=\"k\", **kwargs)\n",
    "\n",
    "plt.gca().axis(\"off\")\n",
    "plt.gca().set_aspect(\"equal\")"
   ]
  }
 ],
 "metadata": {
  "kernelspec": {
   "display_name": "venv",
   "language": "python",
   "name": "python3"
  },
  "language_info": {
   "codemirror_mode": {
    "name": "ipython",
    "version": 3
   },
   "file_extension": ".py",
   "mimetype": "text/x-python",
   "name": "python",
   "nbconvert_exporter": "python",
   "pygments_lexer": "ipython3",
   "version": "3.12.2"
  }
 },
 "nbformat": 4,
 "nbformat_minor": 2
}

{
 "cells": [
  {
   "cell_type": "markdown",
   "metadata": {},
   "source": [
    "# Time Series\n",
    "\n",
    "This example demonstrates operator learning for a time series with non-uniform\n",
    "time steps. Actually, a discretization-invariant neural operator can learn\n",
    "from an arbitrary discretization and generalize to a different one!"
   ]
  },
  {
   "cell_type": "code",
   "execution_count": 1,
   "metadata": {
    "ExecuteTime": {
     "end_time": "2024-02-14T14:14:16.272019132Z",
     "start_time": "2024-02-14T14:14:16.268052524Z"
    },
    "tags": [
     "hide"
    ]
   },
   "outputs": [],
   "source": [
    "import torch\n",
    "import matplotlib.pyplot as plt\n",
    "torch.manual_seed(0)\n",
    "plt.rcParams[\"axes.facecolor\"] = (1, 1, 1, 0)\n",
    "plt.rcParams[\"figure.facecolor\"] = (1, 1, 1, 0)\n",
    "plt.rcParams[\"legend.framealpha\"] = 0.0"
   ]
  },
  {
   "cell_type": "code",
   "execution_count": 2,
   "metadata": {
    "tags": [
     "hide-input",
     "invertible-output"
    ]
   },
   "outputs": [
    {
     "data": {
      "image/png": "[encoded data removed]",
      "text/plain": [
       "<Figure size 1200x300 with 1 Axes>"
      ]
     },
     "metadata": {
      "needs_background": "light"
     },
     "output_type": "display_data"
    }
   ],
   "source": [
    "t = torch.rand(128) * 4\n",
    "f = 0.5 * (torch.sin(2 * torch.pi * t) + torch.sin(1.4 * torch.pi * t) + torch.rand_like(t) * 0.4) + 1\n",
    "\n",
    "fig, ax = plt.subplots(figsize=(12, 3))\n",
    "ax.plot(t, f, \"k.\")\n",
    "for i, t in enumerate(t):\n",
    "    ax.vlines(t, 0, f[i], color=\"k\", alpha=0.1)\n",
    "ax.axis(\"off\")\n",
    "plt.show()"
   ]
  },
  {
   "cell_type": "markdown",
   "metadata": {},
   "source": [
    "## Setup"
   ]
  },
  {
   "cell_type": "code",
   "execution_count": 3,
   "metadata": {
    "ExecuteTime": {
     "end_time": "2024-02-14T14:14:16.264582095Z",
     "start_time": "2024-02-14T14:14:13.653900994Z"
    }
   },
   "outputs": [],
   "source": [
    "import torch\n",
    "import matplotlib.pyplot as plt\n",
    "from continuiti.operators import BelNet\n",
    "from continuiti.data import OperatorDataset\n",
    "from continuiti.trainer import Trainer"
   ]
  },
  {
   "cell_type": "markdown",
   "metadata": {},
   "source": [
    "## Problem\n",
    "\n",
    "As a simple demonstration of the concepts, we will consider sequences of $n$\n",
    "observations $f_i$ with $i \\in \\{1, \\dots, n\\}$. The index $i$ corresponds to\n",
    "samples of a function $f$ at times $t_i$. For these observations, we would\n",
    "like to predict $m$ future values $f_j$ where $j \\in \\{n+1, \\dots, n+m\\}$.\n",
    "\n",
    "In this example, we choose a simple sine function\n",
    "\n",
    "$$\n",
    "f(t) = \\sin(2\\pi t),\n",
    "$$\n",
    "\n",
    "and choose $n=32$ and $m = 16$. Both $t_i$ and $t_j$ are sampled random\n",
    "uniformly from the intervals $t_i\\in [0, 1)$ and $t_j\\in [1, 1.5)$.\n",
    "\n",
    "The trained neural operator is supposed to predict the future of the time series\n",
    "by only having access to $n$ evaluations of the historical function."
   ]
  },
  {
   "cell_type": "code",
   "execution_count": 4,
   "metadata": {
    "ExecuteTime": {
     "end_time": "2024-02-14T14:14:16.697029688Z",
     "start_time": "2024-02-14T14:14:16.272652653Z"
    },
    "tags": []
   },
   "outputs": [],
   "source": [
    "f = lambda t: torch.sin(2 * torch.pi * t)\n",
    "\n",
    "def random_locations(num_sensors):\n",
    "    return torch.sort(torch.rand(num_sensors))[0]\n",
    "\n",
    "# History will be given as input\n",
    "num_sensors = 32\n",
    "t_hist = random_locations(num_sensors)\n",
    "\n",
    "# Future will be given as labels\n",
    "num_labels = 16\n",
    "t_fut = 1 + 0.5 * random_locations(num_labels)\n",
    "\n",
    "f_hist = f(t_hist)\n",
    "f_fut = f(t_fut)"
   ]
  },
  {
   "cell_type": "code",
   "execution_count": 5,
   "metadata": {
    "tags": [
     "hide-input",
     "invertible-output"
    ]
   },
   "outputs": [
    {
     "data": {
      "image/png": "[encoded data removed]",
      "text/plain": [
       "<Figure size 640x480 with 1 Axes>"
      ]
     },
     "metadata": {
      "needs_background": "light"
     },
     "output_type": "display_data"
    }
   ],
   "source": [
    "plt.plot(t_hist, f_hist, \"g.\", label=r\"$f_{hist}$\")\n",
    "plt.plot(t_fut, f_fut, \"b.\", label=r\"$f_{fut}$\")\n",
    "plt.xlabel(r\"$t$\")\n",
    "plt.legend()\n",
    "plt.show()"
   ]
  },
  {
   "cell_type": "markdown",
   "metadata": {},
   "source": [
    "## Dataset\n",
    "\n",
    "For training an operator, we first construct the corresponding `OperatorDataset`."
   ]
  },
  {
   "cell_type": "code",
   "execution_count": 6,
   "metadata": {},
   "outputs": [],
   "source": [
    "n_samples = 32\n",
    "x_dim = u_dim = y_dim = v_dim = 1\n",
    "\n",
    "x = torch.zeros(n_samples, x_dim, num_sensors)\n",
    "u = torch.zeros(n_samples, u_dim, num_sensors)\n",
    "y = torch.zeros(n_samples, y_dim, num_labels)\n",
    "v = torch.zeros(n_samples, v_dim, num_labels)\n",
    "\n",
    "for i in range(n_samples):\n",
    "    t_hist = random_locations(num_sensors)\n",
    "    t_fut = 1 + 0.5 * random_locations(num_labels)\n",
    "    f_hist = f(t_hist)\n",
    "    f_fut = f(t_fut)\n",
    "    x[i, 0, :] = t_hist\n",
    "    u[i, 0, :] = f_hist\n",
    "    y[i, 0, :] = t_fut\n",
    "    v[i, 0, :] = f_fut\n",
    "\n",
    "dataset = OperatorDataset(x, u, y, v)"
   ]
  },
  {
   "cell_type": "markdown",
   "metadata": {},
   "source": [
    "## Operator\n",
    "\n",
    "In this example, we use [BelNet](https://arxiv.org/pdf/2212.07336.pdf), a\n",
    "discretization-invariant neural operator that can interpolate between different\n",
    "input discretizations.\n",
    "It can also learn mappings of functions that are defined on different domains,\n",
    "this is what is referred to as domain-independence."
   ]
  },
  {
   "cell_type": "code",
   "execution_count": 7,
   "metadata": {
    "ExecuteTime": {
     "end_time": "2024-02-14T14:14:16.886633864Z",
     "start_time": "2024-02-14T14:14:16.743886654Z"
    },
    "tags": []
   },
   "outputs": [],
   "source": [
    "operator = BelNet(dataset.shapes, D_1=32, D_2=32)"
   ]
  },
  {
   "cell_type": "markdown",
   "metadata": {},
   "source": [
    "## Training\n",
    "\n",
    "We train the operator on the given input discretization."
   ]
  },
  {
   "cell_type": "code",
   "execution_count": 8,
   "metadata": {
    "tags": [
     "hide-output"
    ]
   },
   "outputs": [
    {
     "name": "stdout",
     "output_type": "stream",
     "text": [
      "Parameters: 75304  Device: mps\n",
      "Epoch 529/1000  Step  1/1  [====================]  34ms/step  ETA 0:16min - loss/train = 9.9846e-05  - stopping criterion met\n",
      "\n"
     ]
    }
   ],
   "source": [
    "Trainer(operator).fit(dataset, tol=1e-4)"
   ]
  },
  {
   "cell_type": "markdown",
   "metadata": {},
   "source": [
    "## Evaluation\n",
    "\n",
    "Let's plot the predictions of the trained BelNet on the interval $[1, 1.5)$.\n",
    "Note that the operator makes a good prediction even if we sample the sine wave\n",
    "in new random time steps!"
   ]
  },
  {
   "cell_type": "code",
   "execution_count": 9,
   "metadata": {
    "ExecuteTime": {
     "end_time": "2024-02-14T14:14:22.183284696Z",
     "start_time": "2024-02-14T14:14:21.999427572Z"
    },
    "tags": []
   },
   "outputs": [],
   "source": [
    "t_plot = torch.linspace(1, 1.5, 100).reshape(1, 1, -1)\n",
    "\n",
    "# Some time steps used for training\n",
    "x, u, t_fut, f_fut = dataset[0:1]\n",
    "f_pred = operator(x, u, t_plot)    # x, u = t_hist, f_hist\n",
    "\n",
    "# Different time steps\n",
    "t_hist2 = random_locations(num_sensors)\n",
    "f_hist2 = f(t_hist2)\n",
    "x2 = t_hist2.reshape(1, 1, -1)\n",
    "u2 = f_hist2.reshape(1, 1, -1)\n",
    "f_pred2 = operator(x2, u2, t_plot) # x2, u2 = t_hist2, f_hist2"
   ]
  },
  {
   "cell_type": "code",
   "execution_count": 10,
   "metadata": {
    "tags": [
     "invertible-output",
     "hide-input"
    ]
   },
   "outputs": [
    {
     "data": {
      "image/png": "[encoded data removed]",
      "text/plain": [
       "<Figure size 640x480 with 1 Axes>"
      ]
     },
     "metadata": {
      "needs_background": "light"
     },
     "output_type": "display_data"
    }
   ],
   "source": [
    "# Plot inputs and predictions\n",
    "plt.plot(x.squeeze(), u.squeeze(), \"g.\", label=r\"$f_{hist}$\")\n",
    "plt.plot(t_fut.squeeze(), f_fut.squeeze(), \"b.\", label=r\"$f_{fut}$\")\n",
    "plt.plot(x2.squeeze(), u2.squeeze(), \"r.\", label=r\"$f_{hist2}$\")\n",
    "plt.plot(t_plot.squeeze(), f_pred.squeeze().detach(), \"g-\", label=r\"$f_{pred}(t)$\")\n",
    "plt.plot(t_plot.squeeze(), f_pred2.squeeze().detach(), \"r--\", label=r\"$f_{pred2}(t)$\")\n",
    "plt.xlabel(r\"$t$\")\n",
    "plt.legend()\n",
    "plt.show()"
   ]
  },
  {
   "cell_type": "markdown",
   "metadata": {},
   "source": [
    "This example demonstrates how useful it can be to consider functional\n",
    "data as functions and apply machine learning to these functions directly.\n",
    "This is what operator learning is about!"
   ]
  }
 ],
 "metadata": {
  "kernelspec": {
   "display_name": "venv",
   "language": "python",
   "name": "python3"
  },
  "language_info": {
   "codemirror_mode": {
    "name": "ipython",
    "version": 3
   },
   "file_extension": ".py",
   "mimetype": "text/x-python",
   "name": "python",
   "nbconvert_exporter": "python",
   "pygments_lexer": "ipython3",
   "version": "3.12.2"
  }
 },
 "nbformat": 4,
 "nbformat_minor": 2
}
